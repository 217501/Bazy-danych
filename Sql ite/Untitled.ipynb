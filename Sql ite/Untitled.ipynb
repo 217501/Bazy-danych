{
 "cells": [
  {
   "cell_type": "code",
   "execution_count": 31,
   "id": "ffc73b9b-c889-4d7c-a19a-674f4f784b83",
   "metadata": {
    "tags": []
   },
   "outputs": [],
   "source": [
    "import sqlite3\n",
    "from sqlite3 import Error"
   ]
  },
  {
   "cell_type": "code",
   "execution_count": 32,
   "id": "018dcb34-89c5-40f5-91e7-17cb44997d04",
   "metadata": {
    "tags": []
   },
   "outputs": [],
   "source": [
    "def createdatabase(file):\n",
    "    conn=None\n",
    "    try:\n",
    "        conn=sqlite3.connect(file)\n",
    "        return conn\n",
    "    except Error as e:\n",
    "        print(e)\n",
    "    return conn"
   ]
  },
  {
   "cell_type": "code",
   "execution_count": 33,
   "id": "864b6574-bb32-4470-8b51-d6dae69bb5c5",
   "metadata": {
    "tags": []
   },
   "outputs": [],
   "source": [
    "def executecommand(conn,commant):\n",
    "    try:\n",
    "        c=conn.cursor()\n",
    "        c.execute(commant)\n",
    "    except Error as e:\n",
    "        print(e)"
   ]
  },
  {
   "cell_type": "code",
   "execution_count": 34,
   "id": "e95ce23d-ad65-4cfd-bdb8-113cae792650",
   "metadata": {
    "tags": []
   },
   "outputs": [],
   "source": [
    "def executeselect(conn):\n",
    "    c=conn.cursor()\n",
    "    c.execute(\"SELECT * FROM tabela_bazy\")\n",
    "    rows=c.fetchall()\n",
    "    for row in rows:\n",
    "        print(row)"
   ]
  },
  {
   "cell_type": "code",
   "execution_count": 35,
   "id": "d4c11ac1-a0f3-4edd-96d4-00064b12bc14",
   "metadata": {
    "tags": []
   },
   "outputs": [],
   "source": [
    "def main():\n",
    "    database='baza.db'\n",
    "    conn=createdatabase(database)\n",
    "    komenda=\"\"\"CREATE TABLE tabela_bazy (\n",
    "                 id INT,\n",
    "                 imie TEXT,\n",
    "                 nazwisko TEXT,\n",
    "                 wiek INT);\"\"\"\n",
    "    komenda2=\"\"\"INSERT INTO tabela_bazy VALUES(\n",
    "                 1,'Wojciech','Mann',24);\"\"\"\n",
    "    executecommand(conn,komenda)\n",
    "    executecommand(conn,komenda2)\n",
    "    executeselect(conn)"
   ]
  },
  {
   "cell_type": "code",
   "execution_count": 36,
   "id": "d15552db-d780-459f-bfb6-38f44d8e041a",
   "metadata": {
    "tags": []
   },
   "outputs": [
    {
     "name": "stdout",
     "output_type": "stream",
     "text": [
      "(1, 'Wojciech', 'Mann', 24)\n"
     ]
    }
   ],
   "source": [
    "if __name__ == '__main__':\n",
    "    main()"
   ]
  },
  {
   "cell_type": "code",
   "execution_count": null,
   "id": "4176c0e1-bc82-46e8-9c9e-5a465fe83f90",
   "metadata": {},
   "outputs": [],
   "source": []
  }
 ],
 "metadata": {
  "kernelspec": {
   "display_name": "Python 3 (ipykernel)",
   "language": "python",
   "name": "python3"
  },
  "language_info": {
   "codemirror_mode": {
    "name": "ipython",
    "version": 3
   },
   "file_extension": ".py",
   "mimetype": "text/x-python",
   "name": "python",
   "nbconvert_exporter": "python",
   "pygments_lexer": "ipython3",
   "version": "3.11.2"
  }
 },
 "nbformat": 4,
 "nbformat_minor": 5
}
